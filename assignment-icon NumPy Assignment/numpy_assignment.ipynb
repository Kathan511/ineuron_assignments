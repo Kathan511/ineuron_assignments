{
  "cells": [
    {
      "cell_type": "markdown",
      "metadata": {
        "colab_type": "text",
        "id": "RoYVL1sE1em-"
      },
      "source": [
        "TASK 1"
      ]
    },
    {
      "cell_type": "code",
      "execution_count": null,
      "metadata": {
        "colab": {},
        "colab_type": "code",
        "id": "fPwfKgaw8nho",
        "vscode": {
          "languageId": "python"
        }
      },
      "outputs": [],
      "source": [
        "import numpy as np"
      ]
    },
    {
      "cell_type": "code",
      "execution_count": null,
      "metadata": {
        "colab": {},
        "colab_type": "code",
        "id": "TNmGS6wS1GzT",
        "vscode": {
          "languageId": "python"
        }
      },
      "outputs": [],
      "source": [
        "def alexTheoVander(iVector, n, increasing = False):\n",
        "  if increasing:\n",
        "    oMatrix = np.matrix([x**i for x in iVector for i in range(n)]).reshape(iVector.size, n)\n",
        "  else:\n",
        "    oMatrix = np.matrix([x**(n-i-1) for x in iVector for i in range(n)]).reshape(iVector.size, n)\n",
        "  return oMatrix"
      ]
    },
    {
      "cell_type": "code",
      "execution_count": null,
      "metadata": {
        "colab": {},
        "colab_type": "code",
        "id": "b0J4tOWB_0Ba",
        "vscode": {
          "languageId": "python"
        }
      },
      "outputs": [],
      "source": [
        "iVector = np.array([1, 3, 5, 7, 9])\n",
        "n = 5"
      ]
    },
    {
      "cell_type": "code",
      "execution_count": 4,
      "metadata": {
        "colab": {
          "base_uri": "https://localhost:8080/",
          "height": 109
        },
        "colab_type": "code",
        "id": "mLuCu5RKA1XO",
        "outputId": "0812f95e-0b1a-4fc4-da77-972bb59fde25",
        "vscode": {
          "languageId": "python"
        }
      },
      "outputs": [
        {
          "data": {
            "text/plain": [
              "matrix([[   1,    1,    1,    1,    1],\n",
              "        [   1,    3,    9,   27,   81],\n",
              "        [   1,    5,   25,  125,  625],\n",
              "        [   1,    7,   49,  343, 2401],\n",
              "        [   1,    9,   81,  729, 6561]])"
            ]
          },
          "execution_count": 4,
          "metadata": {
            "tags": []
          },
          "output_type": "execute_result"
        }
      ],
      "source": [
        "oMtarix_asc = alexTheoVander(iVector, n, True)\n",
        "oMtarix_asc"
      ]
    },
    {
      "cell_type": "code",
      "execution_count": 5,
      "metadata": {
        "colab": {
          "base_uri": "https://localhost:8080/",
          "height": 109
        },
        "colab_type": "code",
        "id": "KvDjT30iA2yO",
        "outputId": "8033acf3-fdce-48bf-c6eb-0740dafded0d",
        "vscode": {
          "languageId": "python"
        }
      },
      "outputs": [
        {
          "data": {
            "text/plain": [
              "matrix([[   1,    1,    1,    1,    1],\n",
              "        [  81,   27,    9,    3,    1],\n",
              "        [ 625,  125,   25,    5,    1],\n",
              "        [2401,  343,   49,    7,    1],\n",
              "        [6561,  729,   81,    9,    1]])"
            ]
          },
          "execution_count": 5,
          "metadata": {
            "tags": []
          },
          "output_type": "execute_result"
        }
      ],
      "source": [
        "oMtarix_desc = alexTheoVander(iVector, n, False)\n",
        "oMtarix_desc"
      ]
    },
    {
      "cell_type": "markdown",
      "metadata": {
        "colab_type": "text",
        "id": "rvXcwej9Bv_O"
      },
      "source": [
        "Task 2"
      ]
    },
    {
      "cell_type": "code",
      "execution_count": null,
      "metadata": {
        "colab": {},
        "colab_type": "code",
        "id": "9Ox7Dqu8Pe8h",
        "vscode": {
          "languageId": "python"
        }
      },
      "outputs": [],
      "source": [
        "def movingAverage(inputValue, k):\n",
        "  z = 1\n",
        "  output = np.convolve(inputValue, np.ones(k), 'valid') / k\n",
        "  for i in output:\n",
        "    print(\"y{0} = {1:.2f}\".format(z, i))\n",
        "    z += 1"
      ]
    },
    {
      "cell_type": "code",
      "execution_count": 7,
      "metadata": {
        "colab": {
          "base_uri": "https://localhost:8080/",
          "height": 219
        },
        "colab_type": "code",
        "id": "65Nhe55iqA_x",
        "outputId": "45382c1d-1ef4-4ed2-d293-bd746bbbc967",
        "vscode": {
          "languageId": "python"
        }
      },
      "outputs": [
        {
          "name": "stdout",
          "output_type": "stream",
          "text": [
            "y1 = 5.00\n",
            "y2 = 4.67\n",
            "y3 = 5.67\n",
            "y4 = 6.67\n",
            "y5 = 9.67\n",
            "y6 = 28.67\n",
            "y7 = 49.33\n",
            "y8 = 72.67\n",
            "y9 = 84.00\n",
            "y10 = 93.33\n",
            "y11 = 116.33\n"
          ]
        }
      ],
      "source": [
        "inputValue = np.array([3, 5, 7, 2, 8, 10, 11, 65, 72, 81, 99, 100, 150])\n",
        "k = 3\n",
        "movingAverage(inputValue, k)"
      ]
    }
  ],
  "metadata": {
    "colab": {
      "name": "numpy-assignment.ipynb",
      "provenance": []
    },
    "kernelspec": {
      "display_name": "Python 3",
      "name": "python3"
    }
  },
  "nbformat": 4,
  "nbformat_minor": 0
}
